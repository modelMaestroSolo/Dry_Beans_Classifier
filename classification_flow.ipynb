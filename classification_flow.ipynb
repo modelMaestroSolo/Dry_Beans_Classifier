{
 "cells": [
  {
   "cell_type": "markdown",
   "id": "4e33874a-6b71-451c-9e8a-30ce63961aa9",
   "metadata": {},
   "source": [
    "### Business Understanding\n",
    "we will be using the MNIST dataset, which is a set of 70,000 small images of digits handwritten \n",
    "\n",
    "Task: To build a model that classifies handwritten digits, given the handwritten images. "
   ]
  },
  {
   "cell_type": "code",
   "execution_count": null,
   "id": "97e4d4af-c6e7-4ffb-ae2e-39c09a3cdac8",
   "metadata": {},
   "outputs": [],
   "source": []
  }
 ],
 "metadata": {
  "kernelspec": {
   "display_name": "Python 3 (ipykernel)",
   "language": "python",
   "name": "python3"
  },
  "language_info": {
   "codemirror_mode": {
    "name": "ipython",
    "version": 3
   },
   "file_extension": ".py",
   "mimetype": "text/x-python",
   "name": "python",
   "nbconvert_exporter": "python",
   "pygments_lexer": "ipython3",
   "version": "3.11.3"
  }
 },
 "nbformat": 4,
 "nbformat_minor": 5
}
