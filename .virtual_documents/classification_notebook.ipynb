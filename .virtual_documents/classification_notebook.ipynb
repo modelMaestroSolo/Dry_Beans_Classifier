import pandas as pd
import numpy as np
import matplotlib.pyplot as plt


df = pd.read_excel('Dry_Bean_Dataset.xlsx', sheet_name='Dry_Beans_Dataset')
df.head()



df.info() #no missing values. 


df.describe()  # some features are on scales with several orders of magnitude bigger than others. feature scaling 


df.describe(include='object')


df.Class.unique()  #target variable


#we univariate distributions 
df.hist(figsize=(15, 10))
